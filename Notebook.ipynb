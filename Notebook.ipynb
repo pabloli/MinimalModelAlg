{
 "cells": [
  {
   "cell_type": "code",
   "execution_count": null,
   "metadata": {
    "collapsed": false
   },
   "outputs": [],
   "source": [
    "import networkx as nx\n",
    "import matplotlib.pyplot as plt\n",
    "def drawGraph(data):\n",
    "    width = 20\n",
    "    height = 20\n",
    "    plt.figure(figsize=(width, height))\n",
    "    dx = nx.DiGraph()\n",
    "\n",
    "    dx.add_nodes_from(data['members'])\n",
    "    dx.add_edges_from(data['edges'])\n",
    "    pos = nx.spring_layout(dx)\n",
    "\n",
    "    nx.draw_networkx_labels(dx, pos, data['labels'], font_size=16)\n",
    "    nx.draw_networkx_nodes(dx, pos, nodelist=data['members'], node_color='r')\n",
    "    nx.draw_networkx_nodes(\n",
    "        dx, pos, nodelist=data['name'], node_color='y', node_shape='s', node_size=1300, linewidths=10)\n",
    "    nx.draw_networkx_edges(\n",
    "        dx, pos, edgelist=data['edges'], edge_color='b', arrows=True)\n",
    "    plt.show()\n",
    "    return"
   ]
  },
  {
   "cell_type": "code",
   "execution_count": null,
   "metadata": {
    "collapsed": false
   },
   "outputs": [],
   "source": [
    "def mergeDict(dictA, dictB):\n",
    "    for m in dictB.keys():\n",
    "        if m not in dictA.keys():\n",
    "            dictA[m] = dictB[m]\n",
    "        dictA[m] = (dictA[m])\n",
    "    return dictA\n",
    "\n",
    "def mergeData(data1, data2):\n",
    "    allData = {}\n",
    "    for i in data1.keys():\n",
    "        if type(data1[i]) == type({}):\n",
    "            allData[i] = mergeDict(data1[i], data2[i])\n",
    "        else:\n",
    "            allData[i] = data1[i] | data2[i]\n",
    "            allData[i] = (allData[i])\n",
    "    return allData\n",
    "\n",
    "def getData(sentence):\n",
    "    leftMembers = sentence['leftMembers']\n",
    "    name = sentence['name']\n",
    "    rightMembers = sentence['rightMembers']\n",
    "    labels = {}\n",
    "    edges = []\n",
    "    for m in leftMembers:\n",
    "        labels[m] = m\n",
    "        edges.append((m, name[0]))\n",
    "    for m in rightMembers:\n",
    "        labels[m] = m\n",
    "        edges.append((name[0], m))\n",
    "    for m in name:\n",
    "        labels[m] = m\n",
    "\n",
    "    return ({'labels':  (labels), 'edges': set(edges),\n",
    "             'members': set(leftMembers) | set(rightMembers), 'name': set(name)})"
   ]
  },
  {
   "cell_type": "code",
   "execution_count": null,
   "metadata": {
    "collapsed": true
   },
   "outputs": [],
   "source": [
    "import pydot\n",
    "def drawGraph2(data):\n",
    "    graph = pydot.Dot(graph_type='graph')\n",
    "    pyNodes = {}\n",
    "    print(data)\n",
    "    for n in set(data['members']):\n",
    "        pyNodes[n] = pydot.Node(n, fillcolor='r')\n",
    "    for n in set(data['names']):\n",
    "        pyNodes[n] = pydot.Node(n, fillcolor=\"b\", shape='box')\n",
    "    for edge in set(data['edges']):\n",
    "        graph.add_edge(pydot.Edge(edge[0], edge[1], label='a', color='r'))\n",
    "    graph.write_png('ojj.png')"
   ]
  },
  {
   "cell_type": "code",
   "execution_count": null,
   "metadata": {
    "collapsed": false
   },
   "outputs": [],
   "source": [
    "def findIndependetMembers(data):\n",
    "    independentMember = {key: 0 for key in (set(data['members'])|set(data['name']))}\n",
    "    for k in data['edges']:\n",
    "        independentMember[k[1]] += 1\n",
    "    return [l for l in independentMember.keys() if independentMember[l]==0]\n",
    "\n",
    "def getTrues(data):\n",
    "    return (set(data['members']) -  set([m for m in data['members'] for e in data['edges'] if (e[1]==m or e[0] == m)]))\n",
    "\n",
    "def deleteSentences(data):\n",
    "    toDelete = findIndependetMembers(data)\n",
    "    for e in [l for l in data['edges'] if l[0] in toDelete]:\n",
    "        data['edges'].remove(e)\n",
    "    for e in toDelete:\n",
    "        del data['labels'][e]\n",
    "        data['name'].remove(e)\n",
    "    trues = getTrues(data)\n",
    "    for e in trues:\n",
    "        data['members'].remove(e)\n",
    "        del data['labels'][e]\n",
    "    return data , trues"
   ]
  },
  {
   "cell_type": "code",
   "execution_count": null,
   "metadata": {
    "collapsed": false,
    "scrolled": false
   },
   "outputs": [],
   "source": [
    "originalSentences = [\n",
    "    {'leftMembers': [], 'name': ('1'), 'rightMembers': ['a', 'b']},\n",
    "    {'leftMembers': ['b'], 'name': ('2'), 'rightMembers': ['a']},\n",
    "    {'leftMembers': [], 'name': ('3'), 'rightMembers': ['a', 'c']},\n",
    "    {'leftMembers': ['a'], 'name': ('4'), 'rightMembers': ['d', 'e', 'f']},\n",
    "    {'leftMembers': ['e'], 'name': ('5'), 'rightMembers': ['f']},\n",
    "    {'leftMembers': ['f'], 'name': ('6'), 'rightMembers': ['e']},\n",
    "\n",
    "]\n",
    "\n",
    "trues = []\n",
    "data = getData(originalSentences[0]);\n",
    "for oS in originalSentences:\n",
    "    data = mergeData(data, getData(oS))\n",
    "\n",
    "#drawGraph2(data)\n",
    "drawGraph(data)\n",
    "data, deletedMembers = deleteSentences(data)\n",
    "\n",
    "drawGraph(data)    \n",
    "    "
   ]
  }
 ],
 "metadata": {
  "kernelspec": {
   "display_name": "Python 3",
   "language": "python",
   "name": "python3"
  },
  "language_info": {
   "codemirror_mode": {
    "name": "ipython",
    "version": 3
   },
   "file_extension": ".py",
   "mimetype": "text/x-python",
   "name": "python",
   "nbconvert_exporter": "python",
   "pygments_lexer": "ipython3",
   "version": "3.6.0"
  }
 },
 "nbformat": 4,
 "nbformat_minor": 2
}
